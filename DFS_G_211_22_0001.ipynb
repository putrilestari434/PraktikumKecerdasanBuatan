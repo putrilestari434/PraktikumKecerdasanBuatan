{
  "nbformat": 4,
  "nbformat_minor": 0,
  "metadata": {
    "colab": {
      "provenance": [],
      "authorship_tag": "ABX9TyP9qSFWmI+VNtsMJTUYws9r",
      "include_colab_link": true
    },
    "kernelspec": {
      "name": "python3",
      "display_name": "Python 3"
    },
    "language_info": {
      "name": "python"
    }
  },
  "cells": [
    {
      "cell_type": "markdown",
      "metadata": {
        "id": "view-in-github",
        "colab_type": "text"
      },
      "source": [
        "<a href=\"https://colab.research.google.com/github/putrilestari434/PraktikumKecerdasanBuatan/blob/main/DFS_G_211_22_0001.ipynb\" target=\"_parent\"><img src=\"https://colab.research.google.com/assets/colab-badge.svg\" alt=\"Open In Colab\"/></a>"
      ]
    },
    {
      "cell_type": "code",
      "execution_count": 4,
      "metadata": {
        "colab": {
          "base_uri": "https://localhost:8080/"
        },
        "id": "jDY2v1iw5tgI",
        "outputId": "a368a28f-c412-403d-f739-61d8ac91953c"
      },
      "outputs": [
        {
          "output_type": "stream",
          "name": "stdout",
          "text": [
            "Masukkan awal: A\n",
            "Masukkan Akhir: E\n",
            "Mohon maaf node yang kalian pilih tidak ada\n"
          ]
        }
      ],
      "source": [
        "peta = {'A':set(['B']),\n",
        "        'B':set(['C','A']),\n",
        "        'C':set(['H','B','I','D']),\n",
        "        'D':set(['C','E','H','F']),\n",
        "        'E':set(['D']),\n",
        "        'F':set(['D','G']),\n",
        "        'G':set(['F','H']),\n",
        "        'H':set(['L','C','G','D']),\n",
        "        'I':set(['C','J','K']),\n",
        "        'J':set(['I']),\n",
        "        'K':set(['L','I']),\n",
        "        'L':set(['K','H'])}\n",
        "\n",
        "def dfs(graph, mulai, goal):\n",
        "  explored = []\n",
        "  stack = [[mulai]]\n",
        "\n",
        "  if mulai == goal:\n",
        "    return \"Awal adalah Tujuan\"\n",
        "\n",
        "  while stack:\n",
        "    jalur = stack.pop(-1)\n",
        "    node = jalur[-1]\n",
        "\n",
        "    if node not in explored:\n",
        "      neighbours = graph[node]\n",
        "      for neighbour in neighbours:\n",
        "        jalur_baru = list(jalur)\n",
        "        jalur_baru.append(neighbour)\n",
        "        stack.append(neighbour)\n",
        "\n",
        "        if neighbour == goal:\n",
        "          return jalur_baru\n",
        "\n",
        "    return \"Mohon maaf node yang kalian pilih tidak ada\"\n",
        "\n",
        "\n",
        "awal = input(\"Masukkan awal: \")\n",
        "tujuan = input(\"Masukkan Akhir: \")\n",
        "\n",
        "print(dfs(peta, awal, tujuan))"
      ]
    },
    {
      "cell_type": "code",
      "source": [
        "# Definisi struktur graf\n",
        "graph = {\n",
        "    'A': ['B', 'S'],\n",
        "    'B': ['A'],\n",
        "    'S': ['A', 'C'],\n",
        "    'C': ['S', 'D', 'E'],\n",
        "    'D': ['C'],\n",
        "    'E': ['C']\n",
        "}\n",
        "\n",
        "# Fungsi DFS rekursif\n",
        "def dfs(node, visited):\n",
        "    if node not in visited:\n",
        "        print(node, end=' ')\n",
        "        visited.add(node)\n",
        "        for neighbor in graph[node]:\n",
        "            dfs(neighbor, visited)\n",
        "\n",
        "# Memulai DFS dari node 'A'\n",
        "visited_nodes = set()\n",
        "dfs('A', visited_nodes)"
      ],
      "metadata": {
        "colab": {
          "base_uri": "https://localhost:8080/"
        },
        "id": "kIo0KDPC6B5y",
        "outputId": "04ddbe93-3046-428e-8077-15532d25ac0a"
      },
      "execution_count": 2,
      "outputs": [
        {
          "output_type": "stream",
          "name": "stdout",
          "text": [
            "A B S C D E "
          ]
        }
      ]
    }
  ]
}